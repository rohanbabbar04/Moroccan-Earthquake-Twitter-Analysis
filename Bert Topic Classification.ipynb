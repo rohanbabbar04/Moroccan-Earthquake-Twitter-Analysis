{
 "cells": [
  {
   "cell_type": "code",
   "execution_count": 7,
   "id": "b23dd237-b558-481d-ad21-4feb61f5f40a",
   "metadata": {},
   "outputs": [],
   "source": [
    "import tensorflow as tf\n",
    "from tensorflow import keras\n",
    "import seaborn as sns\n",
    "from matplotlib import pyplot as plt\n",
    "import numpy as np\n",
    "import tensorflow_hub as hub\n",
    "import tensorflow_text as text"
   ]
  },
  {
   "cell_type": "code",
   "execution_count": 8,
   "id": "2a80c654-3a75-4b16-954d-1a8d10d5ab05",
   "metadata": {},
   "outputs": [],
   "source": [
    "# Download and add your BERT Model\n",
    "bert = r\"<BERT MODEL>\"\n",
    "# Download and add your Preprocess Model\n",
    "preprocessor = r\"<PREPROCESS MODEL>\""
   ]
  },
  {
   "cell_type": "code",
   "execution_count": 9,
   "id": "bfa32fbd-6743-4ed8-af45-6f8102d883d9",
   "metadata": {},
   "outputs": [],
   "source": [
    "encoder = hub.KerasLayer(bert)"
   ]
  },
  {
   "cell_type": "code",
   "execution_count": 4,
   "id": "64fa563b-e525-41ef-9d56-4be9a622a27f",
   "metadata": {},
   "outputs": [],
   "source": [
    "preprocess = hub.KerasLayer(preprocessor)"
   ]
  },
  {
   "cell_type": "code",
   "execution_count": 5,
   "id": "c1caf70d-fa91-427c-85c1-db80fa91a030",
   "metadata": {},
   "outputs": [],
   "source": [
    "text_input = tf.keras.layers.Input(shape=(), dtype=tf.string, name='text')"
   ]
  },
  {
   "cell_type": "code",
   "execution_count": 6,
   "id": "54c05397-826b-4755-98cd-16492ddfa799",
   "metadata": {},
   "outputs": [],
   "source": [
    "preprocessed_text = preprocess(text_input)"
   ]
  },
  {
   "cell_type": "code",
   "execution_count": 7,
   "id": "1a1baf71-549b-443d-b50e-e3a6054600ea",
   "metadata": {},
   "outputs": [],
   "source": [
    "outputs = encoder(preprocessed_text)"
   ]
  },
  {
   "cell_type": "code",
   "execution_count": 8,
   "id": "f8f8c769-2521-474b-a554-08d688ffb298",
   "metadata": {},
   "outputs": [],
   "source": [
    "dense_1 = tf.keras.layers.Dropout(0.4, name=\"dropout\")(outputs['pooled_output'])"
   ]
  },
  {
   "cell_type": "code",
   "execution_count": 9,
   "id": "25185ab2-d553-402c-aefa-0f68ca5e883d",
   "metadata": {},
   "outputs": [],
   "source": [
    "output = tf.keras.layers.Dense(7, activation='softmax', name=\"output\")(dense_1)"
   ]
  },
  {
   "cell_type": "code",
   "execution_count": 10,
   "id": "e4a4368c-1b6a-4d40-9180-8cafbe4e5a3f",
   "metadata": {},
   "outputs": [],
   "source": [
    "model = tf.keras.Model(inputs=[text_input], outputs = [output])"
   ]
  },
  {
   "cell_type": "code",
   "execution_count": 11,
   "id": "790bbad1-e585-4f22-988d-341165df8e1b",
   "metadata": {},
   "outputs": [],
   "source": [
    "model.compile(optimizer='adam', loss='sparse_categorical_crossentropy',metrics=['accuracy'])"
   ]
  },
  {
   "cell_type": "code",
   "execution_count": 22,
   "id": "27c81467-c03f-459a-902d-06fb85cabc7b",
   "metadata": {},
   "outputs": [],
   "source": [
    "import pandas as pd\n",
    "clf_df = pd.read_excel(\"./preprocessed.xlsx\", engine=\"openpyxl\")"
   ]
  },
  {
   "cell_type": "code",
   "execution_count": 23,
   "id": "ff34525d-6a81-42d0-bffa-181e58b25140",
   "metadata": {},
   "outputs": [
    {
     "data": {
      "text/html": [
       "<div>\n",
       "<style scoped>\n",
       "    .dataframe tbody tr th:only-of-type {\n",
       "        vertical-align: middle;\n",
       "    }\n",
       "\n",
       "    .dataframe tbody tr th {\n",
       "        vertical-align: top;\n",
       "    }\n",
       "\n",
       "    .dataframe thead th {\n",
       "        text-align: right;\n",
       "    }\n",
       "</style>\n",
       "<table border=\"1\" class=\"dataframe\">\n",
       "  <thead>\n",
       "    <tr style=\"text-align: right;\">\n",
       "      <th></th>\n",
       "      <th>Unnamed: 0.1</th>\n",
       "      <th>Unnamed: 0</th>\n",
       "      <th>text</th>\n",
       "      <th>date</th>\n",
       "      <th>user</th>\n",
       "      <th>comments</th>\n",
       "      <th>retweets</th>\n",
       "      <th>likes</th>\n",
       "      <th>quotes</th>\n",
       "      <th>type</th>\n",
       "      <th>preprocessed_text</th>\n",
       "    </tr>\n",
       "  </thead>\n",
       "  <tbody>\n",
       "    <tr>\n",
       "      <th>0</th>\n",
       "      <td>0</td>\n",
       "      <td>0</td>\n",
       "      <td>Almost 3,000 died and more than two million pe...</td>\n",
       "      <td>Dec 9, 2023 · 7:02 AM UTC</td>\n",
       "      <td>Sinar Daily</td>\n",
       "      <td>0</td>\n",
       "      <td>0</td>\n",
       "      <td>0</td>\n",
       "      <td>0</td>\n",
       "      <td>Damage</td>\n",
       "      <td>almost died two million people suffered damage...</td>\n",
       "    </tr>\n",
       "    <tr>\n",
       "      <th>1</th>\n",
       "      <td>1</td>\n",
       "      <td>1</td>\n",
       "      <td>Recovering from disasters takes time.  Three m...</td>\n",
       "      <td>Dec 8, 2023 · 3:54 PM UTC</td>\n",
       "      <td>Jagan Chapagain</td>\n",
       "      <td>0</td>\n",
       "      <td>8</td>\n",
       "      <td>22</td>\n",
       "      <td>0</td>\n",
       "      <td>Damage</td>\n",
       "      <td>recovering disasters takes time three months a...</td>\n",
       "    </tr>\n",
       "    <tr>\n",
       "      <th>2</th>\n",
       "      <td>2</td>\n",
       "      <td>2</td>\n",
       "      <td>#Earthquake 76 km SW of #Marrakech (#Morocco) ...</td>\n",
       "      <td>Sep 8, 2023 · 10:40 PM UTC</td>\n",
       "      <td>EMSC</td>\n",
       "      <td>2</td>\n",
       "      <td>47</td>\n",
       "      <td>74</td>\n",
       "      <td>7</td>\n",
       "      <td>Damage</td>\n",
       "      <td>earthquake km sw marrakech morocco min ago loc...</td>\n",
       "    </tr>\n",
       "    <tr>\n",
       "      <th>3</th>\n",
       "      <td>3</td>\n",
       "      <td>3</td>\n",
       "      <td>A rare, strong earthquake that occurred late o...</td>\n",
       "      <td>Sep 10, 2023 · 2:26 PM UTC</td>\n",
       "      <td>SA News Channel</td>\n",
       "      <td>15</td>\n",
       "      <td>1182</td>\n",
       "      <td>1139</td>\n",
       "      <td>2</td>\n",
       "      <td>Damage</td>\n",
       "      <td>rare strong earthquake occurred late friday ni...</td>\n",
       "    </tr>\n",
       "    <tr>\n",
       "      <th>4</th>\n",
       "      <td>4</td>\n",
       "      <td>4</td>\n",
       "      <td>The earthquake that struck Morocco in Septembe...</td>\n",
       "      <td>Nov 29, 2023 · 6:37 PM UTC</td>\n",
       "      <td>GlobalMedic</td>\n",
       "      <td>0</td>\n",
       "      <td>2</td>\n",
       "      <td>2</td>\n",
       "      <td>0</td>\n",
       "      <td>Damage</td>\n",
       "      <td>earthquake struck morocco september caused ext...</td>\n",
       "    </tr>\n",
       "    <tr>\n",
       "      <th>...</th>\n",
       "      <td>...</td>\n",
       "      <td>...</td>\n",
       "      <td>...</td>\n",
       "      <td>...</td>\n",
       "      <td>...</td>\n",
       "      <td>...</td>\n",
       "      <td>...</td>\n",
       "      <td>...</td>\n",
       "      <td>...</td>\n",
       "      <td>...</td>\n",
       "      <td>...</td>\n",
       "    </tr>\n",
       "    <tr>\n",
       "      <th>8524</th>\n",
       "      <td>8524</td>\n",
       "      <td>8524</td>\n",
       "      <td>VIDEO | \"Before starting with the formal proce...</td>\n",
       "      <td>Sep 9, 2023 · 5:20 AM UTC</td>\n",
       "      <td>Press Trust of India</td>\n",
       "      <td>10</td>\n",
       "      <td>12</td>\n",
       "      <td>98</td>\n",
       "      <td>2</td>\n",
       "      <td>Sympathy</td>\n",
       "      <td>video starting formal proceedings express symp...</td>\n",
       "    </tr>\n",
       "    <tr>\n",
       "      <th>8525</th>\n",
       "      <td>8525</td>\n",
       "      <td>8525</td>\n",
       "      <td>I would like to express my deepest sympathy to...</td>\n",
       "      <td>Sep 9, 2023 · 3:05 AM UTC</td>\n",
       "      <td>Sanjeev Kamboj 🇮🇳</td>\n",
       "      <td>1</td>\n",
       "      <td>0</td>\n",
       "      <td>1</td>\n",
       "      <td>0</td>\n",
       "      <td>Sympathy</td>\n",
       "      <td>would like express deepest sympathy affected d...</td>\n",
       "    </tr>\n",
       "    <tr>\n",
       "      <th>8526</th>\n",
       "      <td>8526</td>\n",
       "      <td>8526</td>\n",
       "      <td>The Propeht Muhammad, peace be upon him, said:...</td>\n",
       "      <td>Sep 9, 2023 · 1:45 AM UTC</td>\n",
       "      <td>EA SQUAD FC</td>\n",
       "      <td>0</td>\n",
       "      <td>1</td>\n",
       "      <td>4</td>\n",
       "      <td>0</td>\n",
       "      <td>Sympathy</td>\n",
       "      <td>propeht muhammad peace upon said example belie...</td>\n",
       "    </tr>\n",
       "    <tr>\n",
       "      <th>8527</th>\n",
       "      <td>8527</td>\n",
       "      <td>8527</td>\n",
       "      <td>We extend our deepest sympathy ad heartfelt co...</td>\n",
       "      <td>Feb 16, 2023 · 10:10 AM UTC</td>\n",
       "      <td>Germany in Morocco</td>\n",
       "      <td>0</td>\n",
       "      <td>2</td>\n",
       "      <td>4</td>\n",
       "      <td>0</td>\n",
       "      <td>Sympathy</td>\n",
       "      <td>extend deepest sympathy ad heartfelt condolenc...</td>\n",
       "    </tr>\n",
       "    <tr>\n",
       "      <th>8528</th>\n",
       "      <td>8528</td>\n",
       "      <td>8528</td>\n",
       "      <td>1. The Embassy of the Kingdom of Morocco in An...</td>\n",
       "      <td>Feb 6, 2023 · 8:41 AM UTC</td>\n",
       "      <td>Morocco In Türkiye 🇲🇦</td>\n",
       "      <td>1</td>\n",
       "      <td>16</td>\n",
       "      <td>58</td>\n",
       "      <td>0</td>\n",
       "      <td>Sympathy</td>\n",
       "      <td>embassy kingdom morocco ankara saddened learn ...</td>\n",
       "    </tr>\n",
       "  </tbody>\n",
       "</table>\n",
       "<p>8529 rows × 11 columns</p>\n",
       "</div>"
      ],
      "text/plain": [
       "      Unnamed: 0.1  Unnamed: 0  \\\n",
       "0                0           0   \n",
       "1                1           1   \n",
       "2                2           2   \n",
       "3                3           3   \n",
       "4                4           4   \n",
       "...            ...         ...   \n",
       "8524          8524        8524   \n",
       "8525          8525        8525   \n",
       "8526          8526        8526   \n",
       "8527          8527        8527   \n",
       "8528          8528        8528   \n",
       "\n",
       "                                                   text  \\\n",
       "0     Almost 3,000 died and more than two million pe...   \n",
       "1     Recovering from disasters takes time.  Three m...   \n",
       "2     #Earthquake 76 km SW of #Marrakech (#Morocco) ...   \n",
       "3     A rare, strong earthquake that occurred late o...   \n",
       "4     The earthquake that struck Morocco in Septembe...   \n",
       "...                                                 ...   \n",
       "8524  VIDEO | \"Before starting with the formal proce...   \n",
       "8525  I would like to express my deepest sympathy to...   \n",
       "8526  The Propeht Muhammad, peace be upon him, said:...   \n",
       "8527  We extend our deepest sympathy ad heartfelt co...   \n",
       "8528  1. The Embassy of the Kingdom of Morocco in An...   \n",
       "\n",
       "                             date                   user  comments  retweets  \\\n",
       "0       Dec 9, 2023 · 7:02 AM UTC            Sinar Daily         0         0   \n",
       "1       Dec 8, 2023 · 3:54 PM UTC        Jagan Chapagain         0         8   \n",
       "2      Sep 8, 2023 · 10:40 PM UTC                   EMSC         2        47   \n",
       "3      Sep 10, 2023 · 2:26 PM UTC        SA News Channel        15      1182   \n",
       "4      Nov 29, 2023 · 6:37 PM UTC            GlobalMedic         0         2   \n",
       "...                           ...                    ...       ...       ...   \n",
       "8524    Sep 9, 2023 · 5:20 AM UTC   Press Trust of India        10        12   \n",
       "8525    Sep 9, 2023 · 3:05 AM UTC      Sanjeev Kamboj 🇮🇳         1         0   \n",
       "8526    Sep 9, 2023 · 1:45 AM UTC            EA SQUAD FC         0         1   \n",
       "8527  Feb 16, 2023 · 10:10 AM UTC     Germany in Morocco         0         2   \n",
       "8528    Feb 6, 2023 · 8:41 AM UTC  Morocco In Türkiye 🇲🇦         1        16   \n",
       "\n",
       "      likes  quotes      type  \\\n",
       "0         0       0    Damage   \n",
       "1        22       0    Damage   \n",
       "2        74       7    Damage   \n",
       "3      1139       2    Damage   \n",
       "4         2       0    Damage   \n",
       "...     ...     ...       ...   \n",
       "8524     98       2  Sympathy   \n",
       "8525      1       0  Sympathy   \n",
       "8526      4       0  Sympathy   \n",
       "8527      4       0  Sympathy   \n",
       "8528     58       0  Sympathy   \n",
       "\n",
       "                                      preprocessed_text  \n",
       "0     almost died two million people suffered damage...  \n",
       "1     recovering disasters takes time three months a...  \n",
       "2     earthquake km sw marrakech morocco min ago loc...  \n",
       "3     rare strong earthquake occurred late friday ni...  \n",
       "4     earthquake struck morocco september caused ext...  \n",
       "...                                                 ...  \n",
       "8524  video starting formal proceedings express symp...  \n",
       "8525  would like express deepest sympathy affected d...  \n",
       "8526  propeht muhammad peace upon said example belie...  \n",
       "8527  extend deepest sympathy ad heartfelt condolenc...  \n",
       "8528  embassy kingdom morocco ankara saddened learn ...  \n",
       "\n",
       "[8529 rows x 11 columns]"
      ]
     },
     "execution_count": 23,
     "metadata": {},
     "output_type": "execute_result"
    }
   ],
   "source": [
    "clf_df"
   ]
  },
  {
   "cell_type": "code",
   "execution_count": 24,
   "id": "38ff307d-45e3-4ff9-9230-f8092991a6fa",
   "metadata": {},
   "outputs": [
    {
     "data": {
      "text/plain": [
       "type\n",
       "Death       5788\n",
       "Damage      1217\n",
       "Alert        483\n",
       "Impact       405\n",
       "Sympathy     335\n",
       "Injury       174\n",
       "Help         127\n",
       "Name: count, dtype: int64"
      ]
     },
     "execution_count": 24,
     "metadata": {},
     "output_type": "execute_result"
    }
   ],
   "source": [
    "clf_df.type.value_counts()"
   ]
  },
  {
   "cell_type": "code",
   "execution_count": 28,
   "id": "fa681700-1267-4e7d-8772-324711ba639d",
   "metadata": {},
   "outputs": [
    {
     "data": {
      "text/plain": [
       "Unnamed: 0.1         0\n",
       "Unnamed: 0           0\n",
       "text                 0\n",
       "date                 0\n",
       "user                 0\n",
       "comments             0\n",
       "retweets             0\n",
       "likes                0\n",
       "quotes               0\n",
       "type                 0\n",
       "preprocessed_text    0\n",
       "dtype: int64"
      ]
     },
     "execution_count": 28,
     "metadata": {},
     "output_type": "execute_result"
    }
   ],
   "source": [
    "clf_df.isna().sum()"
   ]
  },
  {
   "cell_type": "code",
   "execution_count": 29,
   "id": "a2cc225e-d027-4512-bef8-0b3d3deb0893",
   "metadata": {},
   "outputs": [],
   "source": [
    "def function_1(x):\n",
    "    if x == \"Death\":\n",
    "        return 0\n",
    "    elif x == \"Damage\":\n",
    "        return 1\n",
    "    elif x == \"Alert\":\n",
    "        return 2\n",
    "    elif x == \"Impact\":\n",
    "        return 3\n",
    "    elif x == \"Sympathy\":\n",
    "        return 4\n",
    "    elif x == \"Injury\":\n",
    "        return 5\n",
    "    elif x == \"Help\":\n",
    "        return 6"
   ]
  },
  {
   "cell_type": "code",
   "execution_count": 30,
   "id": "a125f1fe-4c69-4eac-952e-277e1a3b876c",
   "metadata": {},
   "outputs": [],
   "source": [
    "clf_df['type_0'] = clf_df['type'].apply(lambda x: int(function_1(x)))"
   ]
  },
  {
   "cell_type": "code",
   "execution_count": 36,
   "id": "ad30fad8-07c2-462f-a712-5ab511624d64",
   "metadata": {},
   "outputs": [
    {
     "data": {
      "text/plain": [
       "0       False\n",
       "1       False\n",
       "2       False\n",
       "3       False\n",
       "4       False\n",
       "        ...  \n",
       "8524    False\n",
       "8525    False\n",
       "8526    False\n",
       "8527    False\n",
       "8528    False\n",
       "Name: type_0, Length: 8529, dtype: bool"
      ]
     },
     "execution_count": 36,
     "metadata": {},
     "output_type": "execute_result"
    }
   ],
   "source": []
  },
  {
   "cell_type": "code",
   "execution_count": 32,
   "id": "012d3c7c-ff34-43d5-8515-4b4215437dc5",
   "metadata": {},
   "outputs": [],
   "source": [
    "from sklearn.model_selection import train_test_split"
   ]
  },
  {
   "cell_type": "code",
   "execution_count": 37,
   "id": "666caade-bc72-4480-ab11-9c65c7c8d896",
   "metadata": {},
   "outputs": [],
   "source": [
    "X = clf_df['preprocessed_text']\n",
    "y = clf_df['type_0']"
   ]
  },
  {
   "cell_type": "code",
   "execution_count": 38,
   "id": "623726de-cdc3-4bc3-a268-0f2b62b4a04d",
   "metadata": {},
   "outputs": [],
   "source": [
    "X_train, X_test, y_train, y_test = train_test_split(X, y, test_size=0.2, stratify=y)"
   ]
  },
  {
   "cell_type": "code",
   "execution_count": 40,
   "id": "fff9096c-5106-4f2d-ab69-1fa5f8ffec54",
   "metadata": {},
   "outputs": [
    {
     "name": "stdout",
     "output_type": "stream",
     "text": [
      "Epoch 1/3\n",
      "214/214 [==============================] - 913s 4s/step - loss: 1.0526 - accuracy: 0.6732\n",
      "Epoch 2/3\n",
      "214/214 [==============================] - 1032s 5s/step - loss: 0.9978 - accuracy: 0.6806\n",
      "Epoch 3/3\n",
      "214/214 [==============================] - 991s 5s/step - loss: 0.9785 - accuracy: 0.6874\n"
     ]
    },
    {
     "data": {
      "text/plain": [
       "<keras.callbacks.History at 0x15e9f3cf970>"
      ]
     },
     "execution_count": 40,
     "metadata": {},
     "output_type": "execute_result"
    }
   ],
   "source": [
    "model.fit(X_train, y_train, epochs=3)"
   ]
  },
  {
   "cell_type": "code",
   "execution_count": 47,
   "id": "5e79ba54-f5c8-4b55-9a1b-1fa332fad8f4",
   "metadata": {},
   "outputs": [
    {
     "name": "stderr",
     "output_type": "stream",
     "text": [
      "C:\\Users\\91997\\AppData\\Local\\Temp\\ipykernel_2776\\495544080.py:1: FutureWarning: \n",
      "\n",
      "Passing `palette` without assigning `hue` is deprecated and will be removed in v0.14.0. Assign the `x` variable to `hue` and set `legend=False` for the same effect.\n",
      "\n",
      "  sns.countplot(x=y, palette=['red', 'blue', 'green', 'yellow', 'pink', 'purple', 'brown'])\n"
     ]
    },
    {
     "data": {
      "image/png": "[encoded data removed]",
      "text/plain": [
       "<Figure size 640x480 with 1 Axes>"
      ]
     },
     "metadata": {},
     "output_type": "display_data"
    }
   ],
   "source": [
    "sns.countplot(x=y, palette=['red', 'blue', 'green', 'yellow', 'pink', 'purple', 'brown'])\n",
    "plt.xticks([0, 1, 2, 3, 4, 5, 6], [\"Death\", \"Damage\", \"Alert\", \"Impact\", \"Sympathy\", \"Injury\", \"Help\"])\n",
    "plt.xlabel(\"Classes\")\n",
    "plt.savefig(\"classes.png\", bbox_inches=\"tight\")"
   ]
  },
  {
   "cell_type": "code",
   "execution_count": 48,
   "id": "7636ab24-52e6-42c0-9b42-aff11a91dfba",
   "metadata": {},
   "outputs": [
    {
     "name": "stdout",
     "output_type": "stream",
     "text": [
      "54/54 [==============================] - 333s 6s/step\n"
     ]
    }
   ],
   "source": [
    "y_pred = model.predict(X_test)"
   ]
  },
  {
   "cell_type": "code",
   "execution_count": 10,
   "id": "6f0d9979-c893-4c1e-b950-c0ae3ed13996",
   "metadata": {},
   "outputs": [
    {
     "name": "stdout",
     "output_type": "stream",
     "text": [
      "Note: you may need to restart the kernel to use updated packages.\n"
     ]
    }
   ],
   "source": [
    "pip freeze > requirements.txt"
   ]
  },
  {
   "cell_type": "code",
   "execution_count": null,
   "id": "23b175da-61bc-49e7-89da-d932483bd764",
   "metadata": {},
   "outputs": [],
   "source": []
  }
 ],
 "metadata": {
  "kernelspec": {
   "display_name": "Python 3 (ipykernel)",
   "language": "python",
   "name": "python3"
  },
  "language_info": {
   "codemirror_mode": {
    "name": "ipython",
    "version": 3
   },
   "file_extension": ".py",
   "mimetype": "text/x-python",
   "name": "python",
   "nbconvert_exporter": "python",
   "pygments_lexer": "ipython3",
   "version": "3.10.0"
  }
 },
 "nbformat": 4,
 "nbformat_minor": 5
}
